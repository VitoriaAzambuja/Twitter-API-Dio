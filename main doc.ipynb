{
 "cells": [
  {
   "cell_type": "code",
   "execution_count": null,
   "metadata": {},
   "outputs": [],
   "source": [
    "import uvicorn\n",
    "\n",
    "from src.services import recent_tweets, get_tweets_from_mongo, save_tweets_timeline\n",
    "from fastapi import FastAPI\n",
    "from src.responses import TweetText\n",
    "\n",
    "\n",
    "app = FastAPI()\n",
    "\n",
    "\n",
    "@app.get('/timeline', response_model=list[TweetText]) #\n",
    "def get_tweets():\n",
    "    # tweets = get_tweets_timeline()\n",
    "    return get_tweets_from_mongo()\n",
    "\n",
    "\n",
    "@app.get('/recent')\n",
    "def recent_seven_days(query):\n",
    "    tweets = recent_tweets(query=query)\n",
    "    return tweets\n",
    "\n",
    "\n",
    "if __name__ == '__main__':\n",
    "    save_tweets_timeline()\n",
    "    uvicorn.run(app)"
   ]
  }
 ],
 "metadata": {
  "language_info": {
   "name": "python"
  },
  "orig_nbformat": 4
 },
 "nbformat": 4,
 "nbformat_minor": 2
}
